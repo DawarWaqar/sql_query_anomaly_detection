{
 "cells": [
  {
   "cell_type": "code",
   "execution_count": 37,
   "id": "815024d3-1323-43de-bacd-393636df994c",
   "metadata": {},
   "outputs": [],
   "source": [
    "import pandas as pd\n",
    "from sklearn.feature_extraction.text import CountVectorizer\n",
    "from sklearn.ensemble import IsolationForest\n",
    "import numpy as np\n",
    "import matplotlib.pyplot as plt\n",
    "from sklearn.model_selection import train_test_split\n",
    "from sklearn.metrics import classification_report, confusion_matrix\n",
    "import torch\n",
    "import torch.nn as nn\n",
    "import torch.optim as optim\n",
    "from sklearn.preprocessing import StandardScaler\n",
    "from sklearn.svm import SVC"
   ]
  },
  {
   "cell_type": "markdown",
   "id": "925fd686-cc37-46be-9e1e-6883097640ef",
   "metadata": {},
   "source": [
    "# Pre-Processing"
   ]
  },
  {
   "cell_type": "code",
   "execution_count": 2,
   "id": "fad3ceb3-ef97-4b3e-bf9e-5875d88903e8",
   "metadata": {},
   "outputs": [],
   "source": [
    "df = pd.read_csv('./data/sql_injection_raw.csv',encoding='utf-16')"
   ]
  },
  {
   "cell_type": "code",
   "execution_count": 3,
   "id": "bf85046f-8344-4c82-a6c3-c8701cb56d08",
   "metadata": {},
   "outputs": [],
   "source": [
    "df = df.dropna()"
   ]
  },
  {
   "cell_type": "code",
   "execution_count": 4,
   "id": "ffd15b0d-00d2-411e-ae5a-19f7243f6e57",
   "metadata": {},
   "outputs": [
    {
     "data": {
      "text/plain": [
       "0    22304\n",
       "1    11453\n",
       "Name: Label, dtype: int64"
      ]
     },
     "execution_count": 4,
     "metadata": {},
     "output_type": "execute_result"
    }
   ],
   "source": [
    "# Get unique values existing in the label column to check if need to clean that\n",
    "\n",
    "df['Label'].value_counts()"
   ]
  },
  {
   "cell_type": "code",
   "execution_count": 5,
   "id": "dedccb0b-0df8-4684-8a44-7305af21c89e",
   "metadata": {},
   "outputs": [
    {
     "data": {
      "text/plain": [
       "dtype('int64')"
      ]
     },
     "execution_count": 5,
     "metadata": {},
     "output_type": "execute_result"
    }
   ],
   "source": [
    "df.Label.dtype #making sure that Label is int"
   ]
  },
  {
   "cell_type": "code",
   "execution_count": 6,
   "id": "aea07f3b-3956-48aa-8d88-8d77aa1cf904",
   "metadata": {},
   "outputs": [
    {
     "data": {
      "text/plain": [
       "1                            \" or pg_sleep ( __TIME__ ) --\n",
       "2        create user name identified by pass123 tempora...\n",
       "3                                                      %29\n",
       "4        ' AND 1 = utl_inaddr.get_host_address  (  (  S...\n",
       "5         select * from users where id = '1' or @ @1 = ...\n",
       "                               ...                        \n",
       "33756                                               syrett\n",
       "33757                                     arrechea bellveh\n",
       "33758                                                 1664\n",
       "33759                                             almaluez\n",
       "33760                                            f6lo40r06\n",
       "Name: Sentence, Length: 33757, dtype: object"
      ]
     },
     "execution_count": 6,
     "metadata": {},
     "output_type": "execute_result"
    }
   ],
   "source": [
    "df['Sentence']"
   ]
  },
  {
   "cell_type": "code",
   "execution_count": 7,
   "id": "6d760092-6d86-41ab-a354-7f6cec5a2dd5",
   "metadata": {},
   "outputs": [],
   "source": [
    "df.rename(columns={'Sentence': 'query', 'Label': 'label'}, inplace=True)"
   ]
  },
  {
   "cell_type": "code",
   "execution_count": 8,
   "id": "955a19db-1b23-4481-9107-edc784c5e283",
   "metadata": {},
   "outputs": [
    {
     "data": {
      "text/html": [
       "<div>\n",
       "<style scoped>\n",
       "    .dataframe tbody tr th:only-of-type {\n",
       "        vertical-align: middle;\n",
       "    }\n",
       "\n",
       "    .dataframe tbody tr th {\n",
       "        vertical-align: top;\n",
       "    }\n",
       "\n",
       "    .dataframe thead th {\n",
       "        text-align: right;\n",
       "    }\n",
       "</style>\n",
       "<table border=\"1\" class=\"dataframe\">\n",
       "  <thead>\n",
       "    <tr style=\"text-align: right;\">\n",
       "      <th></th>\n",
       "      <th>query</th>\n",
       "      <th>label</th>\n",
       "    </tr>\n",
       "  </thead>\n",
       "  <tbody>\n",
       "    <tr>\n",
       "      <th>1</th>\n",
       "      <td>\" or pg_sleep ( __TIME__ ) --</td>\n",
       "      <td>1</td>\n",
       "    </tr>\n",
       "    <tr>\n",
       "      <th>2</th>\n",
       "      <td>create user name identified by pass123 tempora...</td>\n",
       "      <td>1</td>\n",
       "    </tr>\n",
       "    <tr>\n",
       "      <th>3</th>\n",
       "      <td>%29</td>\n",
       "      <td>1</td>\n",
       "    </tr>\n",
       "    <tr>\n",
       "      <th>4</th>\n",
       "      <td>' AND 1 = utl_inaddr.get_host_address  (  (  S...</td>\n",
       "      <td>1</td>\n",
       "    </tr>\n",
       "    <tr>\n",
       "      <th>5</th>\n",
       "      <td>select * from users where id = '1' or @ @1 = ...</td>\n",
       "      <td>1</td>\n",
       "    </tr>\n",
       "  </tbody>\n",
       "</table>\n",
       "</div>"
      ],
      "text/plain": [
       "                                               query  label\n",
       "1                      \" or pg_sleep ( __TIME__ ) --      1\n",
       "2  create user name identified by pass123 tempora...      1\n",
       "3                                                %29      1\n",
       "4  ' AND 1 = utl_inaddr.get_host_address  (  (  S...      1\n",
       "5   select * from users where id = '1' or @ @1 = ...      1"
      ]
     },
     "execution_count": 8,
     "metadata": {},
     "output_type": "execute_result"
    }
   ],
   "source": [
    "df.head()"
   ]
  },
  {
   "cell_type": "code",
   "execution_count": 9,
   "id": "e7e2de54-1c22-416e-a5d8-727fb120c000",
   "metadata": {},
   "outputs": [
    {
     "data": {
      "text/html": [
       "<div>\n",
       "<style scoped>\n",
       "    .dataframe tbody tr th:only-of-type {\n",
       "        vertical-align: middle;\n",
       "    }\n",
       "\n",
       "    .dataframe tbody tr th {\n",
       "        vertical-align: top;\n",
       "    }\n",
       "\n",
       "    .dataframe thead th {\n",
       "        text-align: right;\n",
       "    }\n",
       "</style>\n",
       "<table border=\"1\" class=\"dataframe\">\n",
       "  <thead>\n",
       "    <tr style=\"text-align: right;\">\n",
       "      <th></th>\n",
       "      <th>label</th>\n",
       "    </tr>\n",
       "  </thead>\n",
       "  <tbody>\n",
       "    <tr>\n",
       "      <th>count</th>\n",
       "      <td>33757.000000</td>\n",
       "    </tr>\n",
       "    <tr>\n",
       "      <th>mean</th>\n",
       "      <td>0.339278</td>\n",
       "    </tr>\n",
       "    <tr>\n",
       "      <th>std</th>\n",
       "      <td>0.473471</td>\n",
       "    </tr>\n",
       "    <tr>\n",
       "      <th>min</th>\n",
       "      <td>0.000000</td>\n",
       "    </tr>\n",
       "    <tr>\n",
       "      <th>25%</th>\n",
       "      <td>0.000000</td>\n",
       "    </tr>\n",
       "    <tr>\n",
       "      <th>50%</th>\n",
       "      <td>0.000000</td>\n",
       "    </tr>\n",
       "    <tr>\n",
       "      <th>75%</th>\n",
       "      <td>1.000000</td>\n",
       "    </tr>\n",
       "    <tr>\n",
       "      <th>max</th>\n",
       "      <td>1.000000</td>\n",
       "    </tr>\n",
       "  </tbody>\n",
       "</table>\n",
       "</div>"
      ],
      "text/plain": [
       "              label\n",
       "count  33757.000000\n",
       "mean       0.339278\n",
       "std        0.473471\n",
       "min        0.000000\n",
       "25%        0.000000\n",
       "50%        0.000000\n",
       "75%        1.000000\n",
       "max        1.000000"
      ]
     },
     "execution_count": 9,
     "metadata": {},
     "output_type": "execute_result"
    }
   ],
   "source": [
    "df.describe()"
   ]
  },
  {
   "cell_type": "code",
   "execution_count": 10,
   "id": "8478d8af-6d84-4e8c-b544-329b017f5871",
   "metadata": {},
   "outputs": [],
   "source": [
    "# Separate the DataFrame into two based on the label\n",
    "df_label_1 = df[df['label'] == 1]\n",
    "df_label_0 = df[df['label'] == 0]\n",
    "\n",
    "# Randomly sample 500 rows from each\n",
    "df_label_1_sampled = df_label_1.sample(n=500, random_state=1)\n",
    "df_label_0_sampled = df_label_0.sample(n=500, random_state=1)\n",
    "\n",
    "# Combine the samples into one DataFrame\n",
    "df_sampled = pd.concat([df_label_1_sampled, df_label_0_sampled])\n",
    "\n",
    "# Shuffle the combined DataFrame\n",
    "df = df_sampled.sample(frac=1, random_state=1).reset_index(drop=True)"
   ]
  },
  {
   "cell_type": "code",
   "execution_count": 11,
   "id": "9e0d051e-2c34-4d85-aacc-a717e700bb9f",
   "metadata": {},
   "outputs": [
    {
     "data": {
      "text/html": [
       "<div>\n",
       "<style scoped>\n",
       "    .dataframe tbody tr th:only-of-type {\n",
       "        vertical-align: middle;\n",
       "    }\n",
       "\n",
       "    .dataframe tbody tr th {\n",
       "        vertical-align: top;\n",
       "    }\n",
       "\n",
       "    .dataframe thead th {\n",
       "        text-align: right;\n",
       "    }\n",
       "</style>\n",
       "<table border=\"1\" class=\"dataframe\">\n",
       "  <thead>\n",
       "    <tr style=\"text-align: right;\">\n",
       "      <th></th>\n",
       "      <th>label</th>\n",
       "    </tr>\n",
       "  </thead>\n",
       "  <tbody>\n",
       "    <tr>\n",
       "      <th>count</th>\n",
       "      <td>1000.00000</td>\n",
       "    </tr>\n",
       "    <tr>\n",
       "      <th>mean</th>\n",
       "      <td>0.50000</td>\n",
       "    </tr>\n",
       "    <tr>\n",
       "      <th>std</th>\n",
       "      <td>0.50025</td>\n",
       "    </tr>\n",
       "    <tr>\n",
       "      <th>min</th>\n",
       "      <td>0.00000</td>\n",
       "    </tr>\n",
       "    <tr>\n",
       "      <th>25%</th>\n",
       "      <td>0.00000</td>\n",
       "    </tr>\n",
       "    <tr>\n",
       "      <th>50%</th>\n",
       "      <td>0.50000</td>\n",
       "    </tr>\n",
       "    <tr>\n",
       "      <th>75%</th>\n",
       "      <td>1.00000</td>\n",
       "    </tr>\n",
       "    <tr>\n",
       "      <th>max</th>\n",
       "      <td>1.00000</td>\n",
       "    </tr>\n",
       "  </tbody>\n",
       "</table>\n",
       "</div>"
      ],
      "text/plain": [
       "            label\n",
       "count  1000.00000\n",
       "mean      0.50000\n",
       "std       0.50025\n",
       "min       0.00000\n",
       "25%       0.00000\n",
       "50%       0.50000\n",
       "75%       1.00000\n",
       "max       1.00000"
      ]
     },
     "execution_count": 11,
     "metadata": {},
     "output_type": "execute_result"
    }
   ],
   "source": [
    "df.describe()"
   ]
  },
  {
   "cell_type": "code",
   "execution_count": 12,
   "id": "3e77ec7b-4fef-4fec-acbf-79e47589269c",
   "metadata": {},
   "outputs": [
    {
     "data": {
      "text/plain": [
       "0    500\n",
       "1    500\n",
       "Name: label, dtype: int64"
      ]
     },
     "execution_count": 12,
     "metadata": {},
     "output_type": "execute_result"
    }
   ],
   "source": [
    "df['label'].value_counts()"
   ]
  },
  {
   "cell_type": "code",
   "execution_count": 13,
   "id": "50bcd33c-59bb-4493-9716-a97c36e92eb5",
   "metadata": {},
   "outputs": [],
   "source": [
    "df_injection = df"
   ]
  },
  {
   "cell_type": "code",
   "execution_count": 14,
   "id": "646c0f4c-b36e-440e-872c-73b67c76bef8",
   "metadata": {},
   "outputs": [],
   "source": [
    "df_processing_time = pd.read_csv('./data/queries_with_processing_times.csv')"
   ]
  },
  {
   "cell_type": "code",
   "execution_count": 15,
   "id": "471c12bf-215d-4595-9a2f-d5267622df5d",
   "metadata": {},
   "outputs": [
    {
     "data": {
      "text/plain": [
       "query                0\n",
       "processing_time    203\n",
       "dtype: int64"
      ]
     },
     "execution_count": 15,
     "metadata": {},
     "output_type": "execute_result"
    }
   ],
   "source": [
    "df_processing_time.isna().sum()"
   ]
  },
  {
   "cell_type": "code",
   "execution_count": 16,
   "id": "cc0daa87-29ca-4676-aa52-367415d6fefb",
   "metadata": {},
   "outputs": [],
   "source": [
    "df_processing_time = df_processing_time.dropna()"
   ]
  },
  {
   "cell_type": "code",
   "execution_count": 17,
   "id": "f592b7f9-f99c-44b3-b437-9e031476bbb3",
   "metadata": {},
   "outputs": [
    {
     "data": {
      "text/plain": [
       "query              0\n",
       "processing_time    0\n",
       "dtype: int64"
      ]
     },
     "execution_count": 17,
     "metadata": {},
     "output_type": "execute_result"
    }
   ],
   "source": [
    "df_processing_time.isna().sum()"
   ]
  },
  {
   "cell_type": "code",
   "execution_count": 18,
   "id": "4f3c8763-8692-4b72-82f6-a23677106814",
   "metadata": {},
   "outputs": [],
   "source": [
    "df_processing_time['query'] = df_processing_time['query'].str.strip()"
   ]
  },
  {
   "cell_type": "code",
   "execution_count": 19,
   "id": "3b895dd8-e583-455f-bb42-7d7bb7744a59",
   "metadata": {},
   "outputs": [
    {
     "data": {
      "text/html": [
       "<div>\n",
       "<style scoped>\n",
       "    .dataframe tbody tr th:only-of-type {\n",
       "        vertical-align: middle;\n",
       "    }\n",
       "\n",
       "    .dataframe tbody tr th {\n",
       "        vertical-align: top;\n",
       "    }\n",
       "\n",
       "    .dataframe thead th {\n",
       "        text-align: right;\n",
       "    }\n",
       "</style>\n",
       "<table border=\"1\" class=\"dataframe\">\n",
       "  <thead>\n",
       "    <tr style=\"text-align: right;\">\n",
       "      <th></th>\n",
       "      <th>query</th>\n",
       "      <th>processing_time</th>\n",
       "    </tr>\n",
       "  </thead>\n",
       "  <tbody>\n",
       "    <tr>\n",
       "      <th>0</th>\n",
       "      <td>SELECT * FROM Products WHERE Price &gt; 500;</td>\n",
       "      <td>1.666016</td>\n",
       "    </tr>\n",
       "    <tr>\n",
       "      <th>1</th>\n",
       "      <td>SELECT * FROM Customers WHERE LastName LIKE 'S%';</td>\n",
       "      <td>0.591064</td>\n",
       "    </tr>\n",
       "    <tr>\n",
       "      <th>2</th>\n",
       "      <td>SELECT OrderID, CustomerID FROM Orders WHERE O...</td>\n",
       "      <td>0.555908</td>\n",
       "    </tr>\n",
       "    <tr>\n",
       "      <th>3</th>\n",
       "      <td>SELECT ProductName, Stock FROM Products WHERE ...</td>\n",
       "      <td>0.737061</td>\n",
       "    </tr>\n",
       "    <tr>\n",
       "      <th>4</th>\n",
       "      <td>SELECT COUNT(*) FROM Orders WHERE TotalAmount ...</td>\n",
       "      <td>0.500000</td>\n",
       "    </tr>\n",
       "  </tbody>\n",
       "</table>\n",
       "</div>"
      ],
      "text/plain": [
       "                                               query  processing_time\n",
       "0          SELECT * FROM Products WHERE Price > 500;         1.666016\n",
       "1  SELECT * FROM Customers WHERE LastName LIKE 'S%';         0.591064\n",
       "2  SELECT OrderID, CustomerID FROM Orders WHERE O...         0.555908\n",
       "3  SELECT ProductName, Stock FROM Products WHERE ...         0.737061\n",
       "4  SELECT COUNT(*) FROM Orders WHERE TotalAmount ...         0.500000"
      ]
     },
     "execution_count": 19,
     "metadata": {},
     "output_type": "execute_result"
    }
   ],
   "source": [
    "df_processing_time.head()"
   ]
  },
  {
   "cell_type": "code",
   "execution_count": 20,
   "id": "c85ef61b-f9a2-43e9-82a2-297363ff54aa",
   "metadata": {},
   "outputs": [
    {
     "data": {
      "image/png": "[encoded data removed]",
      "text/plain": [
       "<Figure size 1000x600 with 1 Axes>"
      ]
     },
     "metadata": {},
     "output_type": "display_data"
    }
   ],
   "source": [
    "# Create a histogram of processing times\n",
    "plt.figure(figsize=(10, 6))\n",
    "plt.hist(df_processing_time['processing_time'], bins=50, color='blue', alpha=0.7, edgecolor='black')\n",
    "\n",
    "# Add title and labels\n",
    "plt.title('Histogram of Query Processing Times')\n",
    "plt.xlabel('Processing Time (ms)')\n",
    "plt.ylabel('Frequency')\n",
    "\n",
    "# Display the plot\n",
    "plt.show()"
   ]
  },
  {
   "cell_type": "code",
   "execution_count": 21,
   "id": "c151c4b2-40b0-42b0-99e0-497c7eb99e91",
   "metadata": {},
   "outputs": [],
   "source": [
    "#data doesnt follow gaussian distriubution \n",
    "#so we will use We'll set the threshold based on the 95th percentile of the data\n",
    "#Top 5% of the processing times will be considered as anomalies.\n",
    "\n",
    "threshold = df_processing_time['processing_time'].quantile(0.95)"
   ]
  },
  {
   "cell_type": "code",
   "execution_count": 22,
   "id": "49614c5b-4ab3-42e7-b392-c5f9a32c0026",
   "metadata": {},
   "outputs": [],
   "source": [
    "# Label queries as anomalies if their processing time is above the threshold\n",
    "df_processing_time['label'] = df_processing_time['processing_time'].apply(lambda x: 1 if x > threshold else 0)"
   ]
  },
  {
   "cell_type": "code",
   "execution_count": 23,
   "id": "67f50418-6b3c-440a-b30d-065ba25380c0",
   "metadata": {},
   "outputs": [
    {
     "data": {
      "text/html": [
       "<div>\n",
       "<style scoped>\n",
       "    .dataframe tbody tr th:only-of-type {\n",
       "        vertical-align: middle;\n",
       "    }\n",
       "\n",
       "    .dataframe tbody tr th {\n",
       "        vertical-align: top;\n",
       "    }\n",
       "\n",
       "    .dataframe thead th {\n",
       "        text-align: right;\n",
       "    }\n",
       "</style>\n",
       "<table border=\"1\" class=\"dataframe\">\n",
       "  <thead>\n",
       "    <tr style=\"text-align: right;\">\n",
       "      <th></th>\n",
       "      <th>query</th>\n",
       "      <th>processing_time</th>\n",
       "      <th>label</th>\n",
       "    </tr>\n",
       "  </thead>\n",
       "  <tbody>\n",
       "    <tr>\n",
       "      <th>0</th>\n",
       "      <td>SELECT * FROM Products WHERE Price &gt; 500;</td>\n",
       "      <td>1.666016</td>\n",
       "      <td>1</td>\n",
       "    </tr>\n",
       "    <tr>\n",
       "      <th>1</th>\n",
       "      <td>SELECT * FROM Customers WHERE LastName LIKE 'S%';</td>\n",
       "      <td>0.591064</td>\n",
       "      <td>0</td>\n",
       "    </tr>\n",
       "    <tr>\n",
       "      <th>2</th>\n",
       "      <td>SELECT OrderID, CustomerID FROM Orders WHERE O...</td>\n",
       "      <td>0.555908</td>\n",
       "      <td>0</td>\n",
       "    </tr>\n",
       "    <tr>\n",
       "      <th>3</th>\n",
       "      <td>SELECT ProductName, Stock FROM Products WHERE ...</td>\n",
       "      <td>0.737061</td>\n",
       "      <td>0</td>\n",
       "    </tr>\n",
       "    <tr>\n",
       "      <th>4</th>\n",
       "      <td>SELECT COUNT(*) FROM Orders WHERE TotalAmount ...</td>\n",
       "      <td>0.500000</td>\n",
       "      <td>0</td>\n",
       "    </tr>\n",
       "  </tbody>\n",
       "</table>\n",
       "</div>"
      ],
      "text/plain": [
       "                                               query  processing_time  label\n",
       "0          SELECT * FROM Products WHERE Price > 500;         1.666016      1\n",
       "1  SELECT * FROM Customers WHERE LastName LIKE 'S%';         0.591064      0\n",
       "2  SELECT OrderID, CustomerID FROM Orders WHERE O...         0.555908      0\n",
       "3  SELECT ProductName, Stock FROM Products WHERE ...         0.737061      0\n",
       "4  SELECT COUNT(*) FROM Orders WHERE TotalAmount ...         0.500000      0"
      ]
     },
     "execution_count": 23,
     "metadata": {},
     "output_type": "execute_result"
    }
   ],
   "source": [
    "df_processing_time.head()"
   ]
  },
  {
   "cell_type": "code",
   "execution_count": 24,
   "id": "6bd0e711-f74f-4049-acc2-4f9ac0ed41e4",
   "metadata": {},
   "outputs": [
    {
     "data": {
      "text/plain": [
       "0    757\n",
       "1     40\n",
       "Name: label, dtype: int64"
      ]
     },
     "execution_count": 24,
     "metadata": {},
     "output_type": "execute_result"
    }
   ],
   "source": [
    "df_processing_time['label'].value_counts()"
   ]
  },
  {
   "cell_type": "code",
   "execution_count": 25,
   "id": "1fc30d8d-1567-4984-b7eb-b2f1d9dec5b7",
   "metadata": {},
   "outputs": [
    {
     "data": {
      "image/png": "[encoded data removed]",
      "text/plain": [
       "<Figure size 640x480 with 1 Axes>"
      ]
     },
     "metadata": {},
     "output_type": "display_data"
    }
   ],
   "source": [
    "# Plot the histogram of processing times\n",
    "plt.hist(df_processing_time['processing_time'], bins=50, color='blue', alpha=0.7)\n",
    "\n",
    "# Add a vertical line at the threshold\n",
    "plt.axvline(threshold, color='red', linestyle='dashed', linewidth=2, label=f'Threshold (95th percentile): {threshold:.2f}')\n",
    "\n",
    "# Add labels and title\n",
    "plt.xlabel('Processing Time (ms)')\n",
    "plt.ylabel('Frequency')\n",
    "plt.title('Histogram of Query Processing Times with Anomaly Threshold')\n",
    "plt.legend()\n",
    "\n",
    "# Show the plot\n",
    "plt.show()"
   ]
  },
  {
   "cell_type": "code",
   "execution_count": 26,
   "id": "66bc4c4f-7a02-4d05-a2db-15751b84c046",
   "metadata": {},
   "outputs": [],
   "source": [
    "df_processing_time = df_processing_time.drop(columns=['processing_time'])"
   ]
  },
  {
   "cell_type": "code",
   "execution_count": 27,
   "id": "eddd5cd3-b9cf-4c74-924d-2c75c22e00b4",
   "metadata": {},
   "outputs": [
    {
     "data": {
      "text/html": [
       "<div>\n",
       "<style scoped>\n",
       "    .dataframe tbody tr th:only-of-type {\n",
       "        vertical-align: middle;\n",
       "    }\n",
       "\n",
       "    .dataframe tbody tr th {\n",
       "        vertical-align: top;\n",
       "    }\n",
       "\n",
       "    .dataframe thead th {\n",
       "        text-align: right;\n",
       "    }\n",
       "</style>\n",
       "<table border=\"1\" class=\"dataframe\">\n",
       "  <thead>\n",
       "    <tr style=\"text-align: right;\">\n",
       "      <th></th>\n",
       "      <th>query</th>\n",
       "      <th>label</th>\n",
       "    </tr>\n",
       "  </thead>\n",
       "  <tbody>\n",
       "    <tr>\n",
       "      <th>0</th>\n",
       "      <td>SELECT * FROM Products WHERE Price &gt; 500;</td>\n",
       "      <td>1</td>\n",
       "    </tr>\n",
       "    <tr>\n",
       "      <th>1</th>\n",
       "      <td>SELECT * FROM Customers WHERE LastName LIKE 'S%';</td>\n",
       "      <td>0</td>\n",
       "    </tr>\n",
       "    <tr>\n",
       "      <th>2</th>\n",
       "      <td>SELECT OrderID, CustomerID FROM Orders WHERE O...</td>\n",
       "      <td>0</td>\n",
       "    </tr>\n",
       "    <tr>\n",
       "      <th>3</th>\n",
       "      <td>SELECT ProductName, Stock FROM Products WHERE ...</td>\n",
       "      <td>0</td>\n",
       "    </tr>\n",
       "    <tr>\n",
       "      <th>4</th>\n",
       "      <td>SELECT COUNT(*) FROM Orders WHERE TotalAmount ...</td>\n",
       "      <td>0</td>\n",
       "    </tr>\n",
       "  </tbody>\n",
       "</table>\n",
       "</div>"
      ],
      "text/plain": [
       "                                               query  label\n",
       "0          SELECT * FROM Products WHERE Price > 500;      1\n",
       "1  SELECT * FROM Customers WHERE LastName LIKE 'S%';      0\n",
       "2  SELECT OrderID, CustomerID FROM Orders WHERE O...      0\n",
       "3  SELECT ProductName, Stock FROM Products WHERE ...      0\n",
       "4  SELECT COUNT(*) FROM Orders WHERE TotalAmount ...      0"
      ]
     },
     "execution_count": 27,
     "metadata": {},
     "output_type": "execute_result"
    }
   ],
   "source": [
    "df_processing_time.head()"
   ]
  },
  {
   "cell_type": "code",
   "execution_count": 28,
   "id": "b0129a75-8e90-4c4d-be2e-8f9f127f7397",
   "metadata": {},
   "outputs": [],
   "source": [
    "merged_df = pd.concat([df_injection, df_processing_time], ignore_index=True)"
   ]
  },
  {
   "cell_type": "code",
   "execution_count": 29,
   "id": "7464338f-6735-4929-a592-32677e43b33d",
   "metadata": {},
   "outputs": [
    {
     "data": {
      "text/html": [
       "<div>\n",
       "<style scoped>\n",
       "    .dataframe tbody tr th:only-of-type {\n",
       "        vertical-align: middle;\n",
       "    }\n",
       "\n",
       "    .dataframe tbody tr th {\n",
       "        vertical-align: top;\n",
       "    }\n",
       "\n",
       "    .dataframe thead th {\n",
       "        text-align: right;\n",
       "    }\n",
       "</style>\n",
       "<table border=\"1\" class=\"dataframe\">\n",
       "  <thead>\n",
       "    <tr style=\"text-align: right;\">\n",
       "      <th></th>\n",
       "      <th>query</th>\n",
       "      <th>label</th>\n",
       "    </tr>\n",
       "  </thead>\n",
       "  <tbody>\n",
       "    <tr>\n",
       "      <th>0</th>\n",
       "      <td>av. jose ferrandez cruz 182, 8b</td>\n",
       "      <td>0</td>\n",
       "    </tr>\n",
       "    <tr>\n",
       "      <th>1</th>\n",
       "      <td>19283115f</td>\n",
       "      <td>0</td>\n",
       "    </tr>\n",
       "    <tr>\n",
       "      <th>2</th>\n",
       "      <td>1',iif ( 9496 = 4153,1,1/0 )</td>\n",
       "      <td>1</td>\n",
       "    </tr>\n",
       "    <tr>\n",
       "      <th>3</th>\n",
       "      <td>1  )  )   )  or 6979 = like ( 'abcdefg',upper ...</td>\n",
       "      <td>1</td>\n",
       "    </tr>\n",
       "    <tr>\n",
       "      <th>4</th>\n",
       "      <td>1 )  where 9821 = 9821 or  ( select * from  ( ...</td>\n",
       "      <td>1</td>\n",
       "    </tr>\n",
       "  </tbody>\n",
       "</table>\n",
       "</div>"
      ],
      "text/plain": [
       "                                               query  label\n",
       "0                    av. jose ferrandez cruz 182, 8b      0\n",
       "1                                          19283115f      0\n",
       "2                      1',iif ( 9496 = 4153,1,1/0 )       1\n",
       "3  1  )  )   )  or 6979 = like ( 'abcdefg',upper ...      1\n",
       "4  1 )  where 9821 = 9821 or  ( select * from  ( ...      1"
      ]
     },
     "execution_count": 29,
     "metadata": {},
     "output_type": "execute_result"
    }
   ],
   "source": [
    "merged_df.head()"
   ]
  },
  {
   "cell_type": "code",
   "execution_count": 30,
   "id": "133d7a32-5064-40d6-85db-5d23f07d59ee",
   "metadata": {},
   "outputs": [
    {
     "data": {
      "text/html": [
       "<div>\n",
       "<style scoped>\n",
       "    .dataframe tbody tr th:only-of-type {\n",
       "        vertical-align: middle;\n",
       "    }\n",
       "\n",
       "    .dataframe tbody tr th {\n",
       "        vertical-align: top;\n",
       "    }\n",
       "\n",
       "    .dataframe thead th {\n",
       "        text-align: right;\n",
       "    }\n",
       "</style>\n",
       "<table border=\"1\" class=\"dataframe\">\n",
       "  <thead>\n",
       "    <tr style=\"text-align: right;\">\n",
       "      <th></th>\n",
       "      <th>label</th>\n",
       "    </tr>\n",
       "  </thead>\n",
       "  <tbody>\n",
       "    <tr>\n",
       "      <th>count</th>\n",
       "      <td>1797.000000</td>\n",
       "    </tr>\n",
       "    <tr>\n",
       "      <th>mean</th>\n",
       "      <td>0.300501</td>\n",
       "    </tr>\n",
       "    <tr>\n",
       "      <th>std</th>\n",
       "      <td>0.458603</td>\n",
       "    </tr>\n",
       "    <tr>\n",
       "      <th>min</th>\n",
       "      <td>0.000000</td>\n",
       "    </tr>\n",
       "    <tr>\n",
       "      <th>25%</th>\n",
       "      <td>0.000000</td>\n",
       "    </tr>\n",
       "    <tr>\n",
       "      <th>50%</th>\n",
       "      <td>0.000000</td>\n",
       "    </tr>\n",
       "    <tr>\n",
       "      <th>75%</th>\n",
       "      <td>1.000000</td>\n",
       "    </tr>\n",
       "    <tr>\n",
       "      <th>max</th>\n",
       "      <td>1.000000</td>\n",
       "    </tr>\n",
       "  </tbody>\n",
       "</table>\n",
       "</div>"
      ],
      "text/plain": [
       "             label\n",
       "count  1797.000000\n",
       "mean      0.300501\n",
       "std       0.458603\n",
       "min       0.000000\n",
       "25%       0.000000\n",
       "50%       0.000000\n",
       "75%       1.000000\n",
       "max       1.000000"
      ]
     },
     "execution_count": 30,
     "metadata": {},
     "output_type": "execute_result"
    }
   ],
   "source": [
    "merged_df.describe()"
   ]
  },
  {
   "cell_type": "markdown",
   "id": "e4a4055c-a66d-4c04-85ab-aa2997406a97",
   "metadata": {},
   "source": [
    "# Feature Engineering"
   ]
  },
  {
   "cell_type": "code",
   "execution_count": 32,
   "id": "41ab1f0a-8c5b-46e5-88e1-0d9cda7bb92e",
   "metadata": {},
   "outputs": [],
   "source": [
    "# Split the data into training and test sets\n",
    "train_df, test_df = train_test_split(merged_df, test_size=0.2, random_state=42, stratify=merged_df['label'])\n",
    "\n",
    "# Perform Count Vectorization\n",
    "vectorizer = CountVectorizer()\n",
    "X_train = vectorizer.fit_transform(train_df['query'])\n",
    "X_test = vectorizer.transform(test_df['query'])\n",
    "\n",
    "# Convert the sparse matrix to a dense matrix to make it easier to analyze, and train on machine learning models. \n",
    "# Then convert this to a DataFrame\n",
    "X_train_df = pd.DataFrame(X_train.toarray(), columns=vectorizer.get_feature_names_out())\n",
    "X_test_df = pd.DataFrame(X_test.toarray(), columns=vectorizer.get_feature_names_out())"
   ]
  },
  {
   "cell_type": "code",
   "execution_count": 33,
   "id": "f43ba2c6-5ed0-4a60-8efe-87248db4dc4e",
   "metadata": {},
   "outputs": [
    {
     "data": {
      "text/html": [
       "<div>\n",
       "<style scoped>\n",
       "    .dataframe tbody tr th:only-of-type {\n",
       "        vertical-align: middle;\n",
       "    }\n",
       "\n",
       "    .dataframe tbody tr th {\n",
       "        vertical-align: top;\n",
       "    }\n",
       "\n",
       "    .dataframe thead th {\n",
       "        text-align: right;\n",
       "    }\n",
       "</style>\n",
       "<table border=\"1\" class=\"dataframe\">\n",
       "  <thead>\n",
       "    <tr style=\"text-align: right;\">\n",
       "      <th></th>\n",
       "      <th>000</th>\n",
       "      <th>00863764e</th>\n",
       "      <th>01</th>\n",
       "      <th>01212</th>\n",
       "      <th>0156765529256872</th>\n",
       "      <th>04146926a</th>\n",
       "      <th>04492457m</th>\n",
       "      <th>04858</th>\n",
       "      <th>05</th>\n",
       "      <th>05141</th>\n",
       "      <th>...</th>\n",
       "      <th>zone</th>\n",
       "      <th>zool7ic1</th>\n",
       "      <th>zoqo</th>\n",
       "      <th>zpvn</th>\n",
       "      <th>ztmd</th>\n",
       "      <th>zurera</th>\n",
       "      <th>zw</th>\n",
       "      <th>zweig</th>\n",
       "      <th>zwi</th>\n",
       "      <th>zxos</th>\n",
       "    </tr>\n",
       "  </thead>\n",
       "  <tbody>\n",
       "    <tr>\n",
       "      <th>0</th>\n",
       "      <td>0</td>\n",
       "      <td>0</td>\n",
       "      <td>0</td>\n",
       "      <td>0</td>\n",
       "      <td>0</td>\n",
       "      <td>0</td>\n",
       "      <td>0</td>\n",
       "      <td>0</td>\n",
       "      <td>0</td>\n",
       "      <td>0</td>\n",
       "      <td>...</td>\n",
       "      <td>0</td>\n",
       "      <td>0</td>\n",
       "      <td>0</td>\n",
       "      <td>0</td>\n",
       "      <td>0</td>\n",
       "      <td>0</td>\n",
       "      <td>0</td>\n",
       "      <td>0</td>\n",
       "      <td>0</td>\n",
       "      <td>0</td>\n",
       "    </tr>\n",
       "    <tr>\n",
       "      <th>1</th>\n",
       "      <td>0</td>\n",
       "      <td>0</td>\n",
       "      <td>0</td>\n",
       "      <td>0</td>\n",
       "      <td>0</td>\n",
       "      <td>0</td>\n",
       "      <td>0</td>\n",
       "      <td>0</td>\n",
       "      <td>0</td>\n",
       "      <td>0</td>\n",
       "      <td>...</td>\n",
       "      <td>0</td>\n",
       "      <td>0</td>\n",
       "      <td>0</td>\n",
       "      <td>0</td>\n",
       "      <td>0</td>\n",
       "      <td>0</td>\n",
       "      <td>0</td>\n",
       "      <td>0</td>\n",
       "      <td>0</td>\n",
       "      <td>0</td>\n",
       "    </tr>\n",
       "    <tr>\n",
       "      <th>2</th>\n",
       "      <td>0</td>\n",
       "      <td>0</td>\n",
       "      <td>0</td>\n",
       "      <td>0</td>\n",
       "      <td>0</td>\n",
       "      <td>0</td>\n",
       "      <td>0</td>\n",
       "      <td>0</td>\n",
       "      <td>0</td>\n",
       "      <td>0</td>\n",
       "      <td>...</td>\n",
       "      <td>0</td>\n",
       "      <td>0</td>\n",
       "      <td>0</td>\n",
       "      <td>0</td>\n",
       "      <td>0</td>\n",
       "      <td>0</td>\n",
       "      <td>0</td>\n",
       "      <td>0</td>\n",
       "      <td>0</td>\n",
       "      <td>0</td>\n",
       "    </tr>\n",
       "    <tr>\n",
       "      <th>3</th>\n",
       "      <td>0</td>\n",
       "      <td>0</td>\n",
       "      <td>0</td>\n",
       "      <td>0</td>\n",
       "      <td>0</td>\n",
       "      <td>0</td>\n",
       "      <td>0</td>\n",
       "      <td>0</td>\n",
       "      <td>0</td>\n",
       "      <td>0</td>\n",
       "      <td>...</td>\n",
       "      <td>0</td>\n",
       "      <td>0</td>\n",
       "      <td>0</td>\n",
       "      <td>0</td>\n",
       "      <td>0</td>\n",
       "      <td>0</td>\n",
       "      <td>0</td>\n",
       "      <td>0</td>\n",
       "      <td>0</td>\n",
       "      <td>0</td>\n",
       "    </tr>\n",
       "    <tr>\n",
       "      <th>4</th>\n",
       "      <td>0</td>\n",
       "      <td>0</td>\n",
       "      <td>0</td>\n",
       "      <td>0</td>\n",
       "      <td>0</td>\n",
       "      <td>0</td>\n",
       "      <td>0</td>\n",
       "      <td>0</td>\n",
       "      <td>0</td>\n",
       "      <td>0</td>\n",
       "      <td>...</td>\n",
       "      <td>0</td>\n",
       "      <td>0</td>\n",
       "      <td>0</td>\n",
       "      <td>0</td>\n",
       "      <td>0</td>\n",
       "      <td>0</td>\n",
       "      <td>0</td>\n",
       "      <td>0</td>\n",
       "      <td>0</td>\n",
       "      <td>0</td>\n",
       "    </tr>\n",
       "    <tr>\n",
       "      <th>...</th>\n",
       "      <td>...</td>\n",
       "      <td>...</td>\n",
       "      <td>...</td>\n",
       "      <td>...</td>\n",
       "      <td>...</td>\n",
       "      <td>...</td>\n",
       "      <td>...</td>\n",
       "      <td>...</td>\n",
       "      <td>...</td>\n",
       "      <td>...</td>\n",
       "      <td>...</td>\n",
       "      <td>...</td>\n",
       "      <td>...</td>\n",
       "      <td>...</td>\n",
       "      <td>...</td>\n",
       "      <td>...</td>\n",
       "      <td>...</td>\n",
       "      <td>...</td>\n",
       "      <td>...</td>\n",
       "      <td>...</td>\n",
       "      <td>...</td>\n",
       "    </tr>\n",
       "    <tr>\n",
       "      <th>1432</th>\n",
       "      <td>0</td>\n",
       "      <td>0</td>\n",
       "      <td>0</td>\n",
       "      <td>0</td>\n",
       "      <td>0</td>\n",
       "      <td>0</td>\n",
       "      <td>0</td>\n",
       "      <td>0</td>\n",
       "      <td>0</td>\n",
       "      <td>0</td>\n",
       "      <td>...</td>\n",
       "      <td>0</td>\n",
       "      <td>0</td>\n",
       "      <td>0</td>\n",
       "      <td>0</td>\n",
       "      <td>0</td>\n",
       "      <td>0</td>\n",
       "      <td>0</td>\n",
       "      <td>0</td>\n",
       "      <td>0</td>\n",
       "      <td>0</td>\n",
       "    </tr>\n",
       "    <tr>\n",
       "      <th>1433</th>\n",
       "      <td>0</td>\n",
       "      <td>0</td>\n",
       "      <td>0</td>\n",
       "      <td>0</td>\n",
       "      <td>0</td>\n",
       "      <td>0</td>\n",
       "      <td>0</td>\n",
       "      <td>0</td>\n",
       "      <td>0</td>\n",
       "      <td>0</td>\n",
       "      <td>...</td>\n",
       "      <td>0</td>\n",
       "      <td>0</td>\n",
       "      <td>0</td>\n",
       "      <td>0</td>\n",
       "      <td>0</td>\n",
       "      <td>0</td>\n",
       "      <td>0</td>\n",
       "      <td>0</td>\n",
       "      <td>0</td>\n",
       "      <td>0</td>\n",
       "    </tr>\n",
       "    <tr>\n",
       "      <th>1434</th>\n",
       "      <td>0</td>\n",
       "      <td>0</td>\n",
       "      <td>0</td>\n",
       "      <td>0</td>\n",
       "      <td>0</td>\n",
       "      <td>0</td>\n",
       "      <td>0</td>\n",
       "      <td>0</td>\n",
       "      <td>0</td>\n",
       "      <td>0</td>\n",
       "      <td>...</td>\n",
       "      <td>0</td>\n",
       "      <td>0</td>\n",
       "      <td>0</td>\n",
       "      <td>0</td>\n",
       "      <td>0</td>\n",
       "      <td>0</td>\n",
       "      <td>0</td>\n",
       "      <td>0</td>\n",
       "      <td>0</td>\n",
       "      <td>0</td>\n",
       "    </tr>\n",
       "    <tr>\n",
       "      <th>1435</th>\n",
       "      <td>0</td>\n",
       "      <td>0</td>\n",
       "      <td>0</td>\n",
       "      <td>0</td>\n",
       "      <td>0</td>\n",
       "      <td>0</td>\n",
       "      <td>0</td>\n",
       "      <td>0</td>\n",
       "      <td>0</td>\n",
       "      <td>0</td>\n",
       "      <td>...</td>\n",
       "      <td>0</td>\n",
       "      <td>0</td>\n",
       "      <td>0</td>\n",
       "      <td>0</td>\n",
       "      <td>0</td>\n",
       "      <td>0</td>\n",
       "      <td>0</td>\n",
       "      <td>0</td>\n",
       "      <td>0</td>\n",
       "      <td>0</td>\n",
       "    </tr>\n",
       "    <tr>\n",
       "      <th>1436</th>\n",
       "      <td>0</td>\n",
       "      <td>0</td>\n",
       "      <td>0</td>\n",
       "      <td>0</td>\n",
       "      <td>0</td>\n",
       "      <td>0</td>\n",
       "      <td>0</td>\n",
       "      <td>0</td>\n",
       "      <td>0</td>\n",
       "      <td>0</td>\n",
       "      <td>...</td>\n",
       "      <td>0</td>\n",
       "      <td>0</td>\n",
       "      <td>0</td>\n",
       "      <td>0</td>\n",
       "      <td>0</td>\n",
       "      <td>0</td>\n",
       "      <td>0</td>\n",
       "      <td>0</td>\n",
       "      <td>0</td>\n",
       "      <td>0</td>\n",
       "    </tr>\n",
       "  </tbody>\n",
       "</table>\n",
       "<p>1437 rows × 2006 columns</p>\n",
       "</div>"
      ],
      "text/plain": [
       "      000  00863764e  01  01212  0156765529256872  04146926a  04492457m  \\\n",
       "0       0          0   0      0                 0          0          0   \n",
       "1       0          0   0      0                 0          0          0   \n",
       "2       0          0   0      0                 0          0          0   \n",
       "3       0          0   0      0                 0          0          0   \n",
       "4       0          0   0      0                 0          0          0   \n",
       "...   ...        ...  ..    ...               ...        ...        ...   \n",
       "1432    0          0   0      0                 0          0          0   \n",
       "1433    0          0   0      0                 0          0          0   \n",
       "1434    0          0   0      0                 0          0          0   \n",
       "1435    0          0   0      0                 0          0          0   \n",
       "1436    0          0   0      0                 0          0          0   \n",
       "\n",
       "      04858  05  05141  ...  zone  zool7ic1  zoqo  zpvn  ztmd  zurera  zw  \\\n",
       "0         0   0      0  ...     0         0     0     0     0       0   0   \n",
       "1         0   0      0  ...     0         0     0     0     0       0   0   \n",
       "2         0   0      0  ...     0         0     0     0     0       0   0   \n",
       "3         0   0      0  ...     0         0     0     0     0       0   0   \n",
       "4         0   0      0  ...     0         0     0     0     0       0   0   \n",
       "...     ...  ..    ...  ...   ...       ...   ...   ...   ...     ...  ..   \n",
       "1432      0   0      0  ...     0         0     0     0     0       0   0   \n",
       "1433      0   0      0  ...     0         0     0     0     0       0   0   \n",
       "1434      0   0      0  ...     0         0     0     0     0       0   0   \n",
       "1435      0   0      0  ...     0         0     0     0     0       0   0   \n",
       "1436      0   0      0  ...     0         0     0     0     0       0   0   \n",
       "\n",
       "      zweig  zwi  zxos  \n",
       "0         0    0     0  \n",
       "1         0    0     0  \n",
       "2         0    0     0  \n",
       "3         0    0     0  \n",
       "4         0    0     0  \n",
       "...     ...  ...   ...  \n",
       "1432      0    0     0  \n",
       "1433      0    0     0  \n",
       "1434      0    0     0  \n",
       "1435      0    0     0  \n",
       "1436      0    0     0  \n",
       "\n",
       "[1437 rows x 2006 columns]"
      ]
     },
     "execution_count": 33,
     "metadata": {},
     "output_type": "execute_result"
    }
   ],
   "source": [
    "X_train_df"
   ]
  },
  {
   "cell_type": "markdown",
   "id": "16a7e087-5548-4511-b131-4f519c68181e",
   "metadata": {},
   "source": [
    "# Base Models"
   ]
  },
  {
   "cell_type": "markdown",
   "id": "0d0799f8-515c-48db-bbb0-6616ac5f92ed",
   "metadata": {},
   "source": [
    "### Isolation Forest"
   ]
  },
  {
   "cell_type": "code",
   "execution_count": 371,
   "id": "ff48069d-4032-4451-9bb9-f9b8930dc7fb",
   "metadata": {},
   "outputs": [
    {
     "name": "stdout",
     "output_type": "stream",
     "text": [
      "Contamination: 0.1\n",
      "              precision    recall  f1-score   support\n",
      "\n",
      "           0       0.74      0.96      0.84       252\n",
      "           1       0.72      0.21      0.33       108\n",
      "\n",
      "    accuracy                           0.74       360\n",
      "   macro avg       0.73      0.59      0.58       360\n",
      "weighted avg       0.73      0.74      0.69       360\n",
      "\n",
      "[[243   9]\n",
      " [ 85  23]]\n",
      "\n",
      "\n",
      "Contamination: 0.15\n",
      "              precision    recall  f1-score   support\n",
      "\n",
      "           0       0.75      0.94      0.83       252\n",
      "           1       0.66      0.25      0.36       108\n",
      "\n",
      "    accuracy                           0.74       360\n",
      "   macro avg       0.70      0.60      0.60       360\n",
      "weighted avg       0.72      0.74      0.69       360\n",
      "\n",
      "[[238  14]\n",
      " [ 81  27]]\n",
      "\n",
      "\n",
      "Contamination: 0.2\n",
      "              precision    recall  f1-score   support\n",
      "\n",
      "           0       0.75      0.90      0.82       252\n",
      "           1       0.55      0.29      0.38       108\n",
      "\n",
      "    accuracy                           0.72       360\n",
      "   macro avg       0.65      0.59      0.60       360\n",
      "weighted avg       0.69      0.72      0.68       360\n",
      "\n",
      "[[227  25]\n",
      " [ 77  31]]\n",
      "\n",
      "\n",
      "Contamination: 0.25\n",
      "              precision    recall  f1-score   support\n",
      "\n",
      "           0       0.75      0.85      0.80       252\n",
      "           1       0.49      0.34      0.40       108\n",
      "\n",
      "    accuracy                           0.70       360\n",
      "   macro avg       0.62      0.60      0.60       360\n",
      "weighted avg       0.67      0.70      0.68       360\n",
      "\n",
      "[[214  38]\n",
      " [ 71  37]]\n",
      "\n",
      "\n"
     ]
    }
   ],
   "source": [
    "# Function to evaluate the model\n",
    "def evaluate_model(contamination_value):\n",
    "    iso_forest = IsolationForest(contamination=contamination_value, random_state=42)\n",
    "    iso_forest.fit(X_train_df)\n",
    "    y_pred = iso_forest.predict(X_test_df)\n",
    "    y_pred = [1 if x == -1 else 0 for x in y_pred]\n",
    "    print(f\"Contamination: {contamination_value}\")\n",
    "    print(classification_report(test_df['label'], y_pred))\n",
    "    print(confusion_matrix(test_df['label'], y_pred))\n",
    "    print(\"\\n\")\n",
    "\n",
    "# Test different contamination values\n",
    "for contamination in [0.1, 0.15, 0.2, 0.25]:\n",
    "    evaluate_model(contamination)"
   ]
  },
  {
   "cell_type": "code",
   "execution_count": 38,
   "id": "457785ff",
   "metadata": {},
   "outputs": [
    {
     "name": "stdout",
     "output_type": "stream",
     "text": [
      "SVM Model Performance\n",
      "              precision    recall  f1-score   support\n",
      "\n",
      "           0       0.96      1.00      0.98       252\n",
      "           1       0.99      0.90      0.94       108\n",
      "\n",
      "    accuracy                           0.97       360\n",
      "   macro avg       0.97      0.95      0.96       360\n",
      "weighted avg       0.97      0.97      0.97       360\n",
      "\n",
      "[[251   1]\n",
      " [ 11  97]]\n"
     ]
    }
   ],
   "source": [
    "svm_model = SVC(kernel='linear', random_state=42)\n",
    "svm_model.fit(X_train_df, train_df['label'])\n",
    "\n",
    "y_pred = svm_model.predict(X_test_df)\n",
    "\n",
    "print(\"SVM Model Performance\")\n",
    "print(classification_report(test_df['label'], y_pred))\n",
    "print(confusion_matrix(test_df['label'], y_pred))\n"
   ]
  },
  {
   "cell_type": "code",
   "execution_count": 39,
   "id": "eba221ac",
   "metadata": {},
   "outputs": [
    {
     "name": "stdout",
     "output_type": "stream",
     "text": [
      "Epoch [1/10], Loss: 0.0071\n",
      "Epoch [2/10], Loss: 0.0032\n",
      "Epoch [3/10], Loss: 0.0020\n",
      "Epoch [4/10], Loss: 0.0015\n",
      "Epoch [5/10], Loss: 0.0012\n",
      "Epoch [6/10], Loss: 0.0010\n",
      "Epoch [7/10], Loss: 0.0009\n",
      "Epoch [8/10], Loss: 0.0007\n",
      "Epoch [9/10], Loss: 0.0007\n",
      "Epoch [10/10], Loss: 0.0006\n",
      "Deep SVDD Model Performance\n",
      "              precision    recall  f1-score   support\n",
      "\n",
      "           0       0.70      0.95      0.81       252\n",
      "           1       0.33      0.06      0.10       108\n",
      "\n",
      "    accuracy                           0.68       360\n",
      "   macro avg       0.52      0.50      0.45       360\n",
      "weighted avg       0.59      0.68      0.59       360\n",
      "\n",
      "[[240  12]\n",
      " [102   6]]\n"
     ]
    }
   ],
   "source": [
    "class SVDD_Network(nn.Module):\n",
    "    def __init__(self, input_dim, rep_dim):\n",
    "        super(SVDD_Network, self).__init__()\n",
    "        self.rep_dim = rep_dim\n",
    "        self.network = nn.Sequential(\n",
    "            nn.Linear(input_dim, 128),\n",
    "            nn.ReLU(),\n",
    "            nn.Linear(128, 64),\n",
    "            nn.ReLU(),\n",
    "            nn.Linear(64, rep_dim)\n",
    "        )\n",
    "\n",
    "    def forward(self, x):\n",
    "        return self.network(x)\n",
    "\n",
    "scaler = StandardScaler()\n",
    "X_train_scaled = scaler.fit_transform(X_train_df)\n",
    "X_test_scaled = scaler.transform(X_test_df)\n",
    "\n",
    "X_train_tensor = torch.tensor(X_train_scaled, dtype=torch.float32)\n",
    "X_test_tensor = torch.tensor(X_test_scaled, dtype=torch.float32)\n",
    "y_test_tensor = torch.tensor(test_df['label'].values, dtype=torch.int64)\n",
    "\n",
    "input_dim = X_train_df.shape[1]\n",
    "rep_dim = 32  \n",
    "model = SVDD_Network(input_dim, rep_dim)\n",
    "criterion = nn.MSELoss()\n",
    "optimizer = optim.Adam(model.parameters(), lr=0.001)\n",
    "\n",
    "with torch.no_grad():\n",
    "    center = model(X_train_tensor).mean(dim=0)\n",
    "\n",
    "num_epochs = 10\n",
    "for epoch in range(num_epochs):\n",
    "    model.train()\n",
    "    optimizer.zero_grad()\n",
    "    outputs = model(X_train_tensor)\n",
    "    loss = criterion(outputs, center.expand_as(outputs))\n",
    "    loss.backward()\n",
    "    optimizer.step()\n",
    "    print(f'Epoch [{epoch+1}/{num_epochs}], Loss: {loss.item():.4f}')\n",
    "\n",
    "model.eval()\n",
    "with torch.no_grad():\n",
    "    outputs = model(X_test_tensor)\n",
    "    distances = torch.sum((outputs - center) ** 2, dim=1).sqrt()\n",
    "    threshold = torch.quantile(distances, 0.95).item()  # Use the 95th percentile as the threshold\n",
    "    y_pred = (distances > threshold).int()\n",
    "\n",
    "print(\"Deep SVDD Model Performance\")\n",
    "print(classification_report(y_test_tensor, y_pred))\n",
    "print(confusion_matrix(y_test_tensor, y_pred))\n"
   ]
  },
  {
   "cell_type": "code",
   "execution_count": 372,
   "id": "8b707e8a-d30a-4452-ba5c-20c51b5cc0d2",
   "metadata": {},
   "outputs": [],
   "source": [
    "# we'll choose 0.25 as contamination value as we prefer catching more anomalies at the risk of some false alarms\n",
    "# We cannot let a anomaly go through"
   ]
  },
  {
   "cell_type": "markdown",
   "id": "51bb9a4b-3d0e-4e28-8e64-879a142fccf3",
   "metadata": {},
   "source": [
    "### Variational Autoencoder"
   ]
  },
  {
   "cell_type": "markdown",
   "id": "e5a1d60e-b205-45b3-9b41-f4d31a6b6ed1",
   "metadata": {},
   "source": [
    "### Deep SVDD"
   ]
  },
  {
   "cell_type": "markdown",
   "id": "9c55563c-a0bf-449a-9c71-75b17f03f494",
   "metadata": {},
   "source": [
    "### UDAD"
   ]
  },
  {
   "cell_type": "markdown",
   "id": "3c9ce971-5bb4-4440-82e5-aa2944821eb5",
   "metadata": {},
   "source": [
    "# Ensemble"
   ]
  },
  {
   "cell_type": "markdown",
   "id": "b0563568-5395-41f8-bbea-a319dc6b583a",
   "metadata": {},
   "source": [
    "# Visualizing Results through tables and plots"
   ]
  },
  {
   "cell_type": "code",
   "execution_count": null,
   "id": "9bcad0a9-287b-42e7-bf4c-5a320f7a3112",
   "metadata": {},
   "outputs": [],
   "source": []
  }
 ],
 "metadata": {
  "kernelspec": {
   "display_name": "Python 3 (ipykernel)",
   "language": "python",
   "name": "python3"
  },
  "language_info": {
   "codemirror_mode": {
    "name": "ipython",
    "version": 3
   },
   "file_extension": ".py",
   "mimetype": "text/x-python",
   "name": "python",
   "nbconvert_exporter": "python",
   "pygments_lexer": "ipython3",
   "version": "3.11.5"
  }
 },
 "nbformat": 4,
 "nbformat_minor": 5
}
